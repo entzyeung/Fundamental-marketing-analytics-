{
 "cells": [
  {
   "cell_type": "code",
   "execution_count": 1,
   "metadata": {},
   "outputs": [
    {
     "name": "stderr",
     "output_type": "stream",
     "text": [
      "/Users/Lorentz/opt/anaconda3/lib/python3.7/site-packages/IPython/core/interactiveshell.py:3058: DtypeWarning: Columns (2) have mixed types. Specify dtype option on import or set low_memory=False.\n",
      "  interactivity=interactivity, compiler=compiler, result=result)\n"
     ]
    },
    {
     "data": {
      "text/html": [
       "<div>\n",
       "<style scoped>\n",
       "    .dataframe tbody tr th:only-of-type {\n",
       "        vertical-align: middle;\n",
       "    }\n",
       "\n",
       "    .dataframe tbody tr th {\n",
       "        vertical-align: top;\n",
       "    }\n",
       "\n",
       "    .dataframe thead th {\n",
       "        text-align: right;\n",
       "    }\n",
       "</style>\n",
       "<table border=\"1\" class=\"dataframe\">\n",
       "  <thead>\n",
       "    <tr style=\"text-align: right;\">\n",
       "      <th></th>\n",
       "      <th>customer_id</th>\n",
       "      <th>product</th>\n",
       "      <th>quantity_ordered</th>\n",
       "      <th>price_each</th>\n",
       "      <th>purchase_address</th>\n",
       "      <th>month</th>\n",
       "      <th>year</th>\n",
       "      <th>day</th>\n",
       "      <th>city</th>\n",
       "      <th>code</th>\n",
       "      <th>sales</th>\n",
       "      <th>order_date</th>\n",
       "      <th>hour</th>\n",
       "      <th>minute</th>\n",
       "      <th>count</th>\n",
       "    </tr>\n",
       "  </thead>\n",
       "  <tbody>\n",
       "    <tr>\n",
       "      <td>0</td>\n",
       "      <td>295665</td>\n",
       "      <td>Macbook Pro Laptop</td>\n",
       "      <td>1</td>\n",
       "      <td>1700.00</td>\n",
       "      <td>136 Church St, New York City, NY 10001</td>\n",
       "      <td>12</td>\n",
       "      <td>2019</td>\n",
       "      <td>30</td>\n",
       "      <td>New York City  (NY)</td>\n",
       "      <td>NY</td>\n",
       "      <td>1700.00</td>\n",
       "      <td>12/30/19 00:01</td>\n",
       "      <td>0</td>\n",
       "      <td>1</td>\n",
       "      <td>1</td>\n",
       "    </tr>\n",
       "    <tr>\n",
       "      <td>1</td>\n",
       "      <td>295666</td>\n",
       "      <td>LG Washing Machine</td>\n",
       "      <td>3</td>\n",
       "      <td>600.00</td>\n",
       "      <td>562 2nd St, New York City, NY 10001</td>\n",
       "      <td>12</td>\n",
       "      <td>2019</td>\n",
       "      <td>29</td>\n",
       "      <td>New York City  (NY)</td>\n",
       "      <td>NY</td>\n",
       "      <td>600.00</td>\n",
       "      <td>12/29/19 07:03</td>\n",
       "      <td>7</td>\n",
       "      <td>3</td>\n",
       "      <td>1</td>\n",
       "    </tr>\n",
       "    <tr>\n",
       "      <td>2</td>\n",
       "      <td>295667</td>\n",
       "      <td>USB-C Charging Cable</td>\n",
       "      <td>3</td>\n",
       "      <td>11.95</td>\n",
       "      <td>277 Main St, New York City, NY 10001</td>\n",
       "      <td>12</td>\n",
       "      <td>2019</td>\n",
       "      <td>12</td>\n",
       "      <td>New York City  (NY)</td>\n",
       "      <td>NY</td>\n",
       "      <td>11.95</td>\n",
       "      <td>12/12/19 18:21</td>\n",
       "      <td>18</td>\n",
       "      <td>21</td>\n",
       "      <td>1</td>\n",
       "    </tr>\n",
       "    <tr>\n",
       "      <td>3</td>\n",
       "      <td>295668</td>\n",
       "      <td>27in FHD Monitor</td>\n",
       "      <td>2</td>\n",
       "      <td>149.99</td>\n",
       "      <td>410 6th St, San Francisco, CA 94016</td>\n",
       "      <td>12</td>\n",
       "      <td>2019</td>\n",
       "      <td>22</td>\n",
       "      <td>San Francisco  (CA)</td>\n",
       "      <td>CA</td>\n",
       "      <td>149.99</td>\n",
       "      <td>12/22/19 15:13</td>\n",
       "      <td>15</td>\n",
       "      <td>13</td>\n",
       "      <td>1</td>\n",
       "    </tr>\n",
       "    <tr>\n",
       "      <td>4</td>\n",
       "      <td>295669</td>\n",
       "      <td>USB-C Charging Cable</td>\n",
       "      <td>1</td>\n",
       "      <td>11.95</td>\n",
       "      <td>43 Hill St, Atlanta, GA 30301</td>\n",
       "      <td>12</td>\n",
       "      <td>2019</td>\n",
       "      <td>18</td>\n",
       "      <td>Atlanta  (GA)</td>\n",
       "      <td>GA</td>\n",
       "      <td>11.95</td>\n",
       "      <td>12/18/19 12:38</td>\n",
       "      <td>12</td>\n",
       "      <td>38</td>\n",
       "      <td>1</td>\n",
       "    </tr>\n",
       "  </tbody>\n",
       "</table>\n",
       "</div>"
      ],
      "text/plain": [
       "   customer_id               product quantity_ordered  price_each  \\\n",
       "0       295665    Macbook Pro Laptop                1     1700.00   \n",
       "1       295666    LG Washing Machine                3      600.00   \n",
       "2       295667  USB-C Charging Cable                3       11.95   \n",
       "3       295668      27in FHD Monitor                2      149.99   \n",
       "4       295669  USB-C Charging Cable                1       11.95   \n",
       "\n",
       "                         purchase_address  month  year  day  \\\n",
       "0  136 Church St, New York City, NY 10001     12  2019   30   \n",
       "1     562 2nd St, New York City, NY 10001     12  2019   29   \n",
       "2    277 Main St, New York City, NY 10001     12  2019   12   \n",
       "3     410 6th St, San Francisco, CA 94016     12  2019   22   \n",
       "4           43 Hill St, Atlanta, GA 30301     12  2019   18   \n",
       "\n",
       "                  city code    sales      order_date  hour  minute  count  \n",
       "0  New York City  (NY)   NY  1700.00  12/30/19 00:01     0       1      1  \n",
       "1  New York City  (NY)   NY   600.00  12/29/19 07:03     7       3      1  \n",
       "2  New York City  (NY)   NY    11.95  12/12/19 18:21    18      21      1  \n",
       "3  San Francisco  (CA)   CA   149.99  12/22/19 15:13    15      13      1  \n",
       "4        Atlanta  (GA)   GA    11.95  12/18/19 12:38    12      38      1  "
      ]
     },
     "execution_count": 1,
     "metadata": {},
     "output_type": "execute_result"
    }
   ],
   "source": [
    "import pandas as pd\n",
    "import numpy as np\n",
    "import matplotlib.pyplot as plt\n",
    "from pandasql import sqldf\n",
    "from sklearn.preprocessing import scale\n",
    "from scipy.cluster.hierarchy import linkage, dendrogram, cut_tree\n",
    "\n",
    "df = pd.read_csv('data.csv')\n",
    "df.head()"
   ]
  },
  {
   "cell_type": "code",
   "execution_count": 2,
   "metadata": {},
   "outputs": [
    {
     "data": {
      "text/plain": [
       "pandas.core.series.Series"
      ]
     },
     "execution_count": 2,
     "metadata": {},
     "output_type": "execute_result"
    }
   ],
   "source": [
    "type(df[\"order_date\"])"
   ]
  },
  {
   "cell_type": "code",
   "execution_count": 3,
   "metadata": {},
   "outputs": [
    {
     "name": "stdout",
     "output_type": "stream",
     "text": [
      "<class 'pandas.core.frame.DataFrame'>\n",
      "RangeIndex: 185950 entries, 0 to 185949\n",
      "Data columns (total 15 columns):\n",
      "customer_id         185950 non-null int64\n",
      "product             185950 non-null object\n",
      "quantity_ordered    185950 non-null object\n",
      "price_each          185950 non-null float64\n",
      "purchase_address    185950 non-null object\n",
      "month               185950 non-null int64\n",
      "year                185950 non-null int64\n",
      "day                 185950 non-null int64\n",
      "city                185950 non-null object\n",
      "code                185950 non-null object\n",
      "sales               185950 non-null float64\n",
      "order_date          185950 non-null object\n",
      "hour                185950 non-null int64\n",
      "minute              185950 non-null int64\n",
      "count               185950 non-null int64\n",
      "dtypes: float64(2), int64(7), object(6)\n",
      "memory usage: 21.3+ MB\n"
     ]
    }
   ],
   "source": [
    "df.info()"
   ]
  },
  {
   "cell_type": "code",
   "execution_count": 4,
   "metadata": {},
   "outputs": [],
   "source": [
    "df[\"order_date\"] = df[\"order_date\"].astype('datetime64[ns]')"
   ]
  },
  {
   "cell_type": "code",
   "execution_count": 5,
   "metadata": {},
   "outputs": [
    {
     "name": "stdout",
     "output_type": "stream",
     "text": [
      "2020-01-01 05:13:00 \n",
      " 2019-01-01 03:07:00\n"
     ]
    }
   ],
   "source": [
    "print(df[\"order_date\"].max(),\"\\n\",df[\"order_date\"].min())"
   ]
  },
  {
   "cell_type": "code",
   "execution_count": 6,
   "metadata": {},
   "outputs": [],
   "source": [
    "df['days_since'] = (pd.Timestamp('2020-01-01') - df['order_date']).dt.days"
   ]
  },
  {
   "cell_type": "code",
   "execution_count": 7,
   "metadata": {},
   "outputs": [
    {
     "data": {
      "text/html": [
       "<div>\n",
       "<style scoped>\n",
       "    .dataframe tbody tr th:only-of-type {\n",
       "        vertical-align: middle;\n",
       "    }\n",
       "\n",
       "    .dataframe tbody tr th {\n",
       "        vertical-align: top;\n",
       "    }\n",
       "\n",
       "    .dataframe thead th {\n",
       "        text-align: right;\n",
       "    }\n",
       "</style>\n",
       "<table border=\"1\" class=\"dataframe\">\n",
       "  <thead>\n",
       "    <tr style=\"text-align: right;\">\n",
       "      <th></th>\n",
       "      <th>customer_id</th>\n",
       "      <th>product</th>\n",
       "      <th>quantity_ordered</th>\n",
       "      <th>price_each</th>\n",
       "      <th>purchase_address</th>\n",
       "      <th>month</th>\n",
       "      <th>year</th>\n",
       "      <th>day</th>\n",
       "      <th>city</th>\n",
       "      <th>code</th>\n",
       "      <th>sales</th>\n",
       "      <th>order_date</th>\n",
       "      <th>hour</th>\n",
       "      <th>minute</th>\n",
       "      <th>count</th>\n",
       "      <th>days_since</th>\n",
       "    </tr>\n",
       "  </thead>\n",
       "  <tbody>\n",
       "    <tr>\n",
       "      <td>0</td>\n",
       "      <td>295665</td>\n",
       "      <td>Macbook Pro Laptop</td>\n",
       "      <td>1</td>\n",
       "      <td>1700.00</td>\n",
       "      <td>136 Church St, New York City, NY 10001</td>\n",
       "      <td>12</td>\n",
       "      <td>2019</td>\n",
       "      <td>30</td>\n",
       "      <td>New York City  (NY)</td>\n",
       "      <td>NY</td>\n",
       "      <td>1700.00</td>\n",
       "      <td>2019-12-30 00:01:00</td>\n",
       "      <td>0</td>\n",
       "      <td>1</td>\n",
       "      <td>1</td>\n",
       "      <td>1</td>\n",
       "    </tr>\n",
       "    <tr>\n",
       "      <td>1</td>\n",
       "      <td>295666</td>\n",
       "      <td>LG Washing Machine</td>\n",
       "      <td>3</td>\n",
       "      <td>600.00</td>\n",
       "      <td>562 2nd St, New York City, NY 10001</td>\n",
       "      <td>12</td>\n",
       "      <td>2019</td>\n",
       "      <td>29</td>\n",
       "      <td>New York City  (NY)</td>\n",
       "      <td>NY</td>\n",
       "      <td>600.00</td>\n",
       "      <td>2019-12-29 07:03:00</td>\n",
       "      <td>7</td>\n",
       "      <td>3</td>\n",
       "      <td>1</td>\n",
       "      <td>2</td>\n",
       "    </tr>\n",
       "    <tr>\n",
       "      <td>2</td>\n",
       "      <td>295667</td>\n",
       "      <td>USB-C Charging Cable</td>\n",
       "      <td>3</td>\n",
       "      <td>11.95</td>\n",
       "      <td>277 Main St, New York City, NY 10001</td>\n",
       "      <td>12</td>\n",
       "      <td>2019</td>\n",
       "      <td>12</td>\n",
       "      <td>New York City  (NY)</td>\n",
       "      <td>NY</td>\n",
       "      <td>11.95</td>\n",
       "      <td>2019-12-12 18:21:00</td>\n",
       "      <td>18</td>\n",
       "      <td>21</td>\n",
       "      <td>1</td>\n",
       "      <td>19</td>\n",
       "    </tr>\n",
       "    <tr>\n",
       "      <td>3</td>\n",
       "      <td>295668</td>\n",
       "      <td>27in FHD Monitor</td>\n",
       "      <td>2</td>\n",
       "      <td>149.99</td>\n",
       "      <td>410 6th St, San Francisco, CA 94016</td>\n",
       "      <td>12</td>\n",
       "      <td>2019</td>\n",
       "      <td>22</td>\n",
       "      <td>San Francisco  (CA)</td>\n",
       "      <td>CA</td>\n",
       "      <td>149.99</td>\n",
       "      <td>2019-12-22 15:13:00</td>\n",
       "      <td>15</td>\n",
       "      <td>13</td>\n",
       "      <td>1</td>\n",
       "      <td>9</td>\n",
       "    </tr>\n",
       "    <tr>\n",
       "      <td>4</td>\n",
       "      <td>295669</td>\n",
       "      <td>USB-C Charging Cable</td>\n",
       "      <td>1</td>\n",
       "      <td>11.95</td>\n",
       "      <td>43 Hill St, Atlanta, GA 30301</td>\n",
       "      <td>12</td>\n",
       "      <td>2019</td>\n",
       "      <td>18</td>\n",
       "      <td>Atlanta  (GA)</td>\n",
       "      <td>GA</td>\n",
       "      <td>11.95</td>\n",
       "      <td>2019-12-18 12:38:00</td>\n",
       "      <td>12</td>\n",
       "      <td>38</td>\n",
       "      <td>1</td>\n",
       "      <td>13</td>\n",
       "    </tr>\n",
       "  </tbody>\n",
       "</table>\n",
       "</div>"
      ],
      "text/plain": [
       "   customer_id               product quantity_ordered  price_each  \\\n",
       "0       295665    Macbook Pro Laptop                1     1700.00   \n",
       "1       295666    LG Washing Machine                3      600.00   \n",
       "2       295667  USB-C Charging Cable                3       11.95   \n",
       "3       295668      27in FHD Monitor                2      149.99   \n",
       "4       295669  USB-C Charging Cable                1       11.95   \n",
       "\n",
       "                         purchase_address  month  year  day  \\\n",
       "0  136 Church St, New York City, NY 10001     12  2019   30   \n",
       "1     562 2nd St, New York City, NY 10001     12  2019   29   \n",
       "2    277 Main St, New York City, NY 10001     12  2019   12   \n",
       "3     410 6th St, San Francisco, CA 94016     12  2019   22   \n",
       "4           43 Hill St, Atlanta, GA 30301     12  2019   18   \n",
       "\n",
       "                  city code    sales          order_date  hour  minute  count  \\\n",
       "0  New York City  (NY)   NY  1700.00 2019-12-30 00:01:00     0       1      1   \n",
       "1  New York City  (NY)   NY   600.00 2019-12-29 07:03:00     7       3      1   \n",
       "2  New York City  (NY)   NY    11.95 2019-12-12 18:21:00    18      21      1   \n",
       "3  San Francisco  (CA)   CA   149.99 2019-12-22 15:13:00    15      13      1   \n",
       "4        Atlanta  (GA)   GA    11.95 2019-12-18 12:38:00    12      38      1   \n",
       "\n",
       "   days_since  \n",
       "0           1  \n",
       "1           2  \n",
       "2          19  \n",
       "3           9  \n",
       "4          13  "
      ]
     },
     "execution_count": 7,
     "metadata": {},
     "output_type": "execute_result"
    }
   ],
   "source": [
    "# Display the data after transformation\n",
    "df.head()"
   ]
  },
  {
   "cell_type": "code",
   "execution_count": 24,
   "metadata": {},
   "outputs": [],
   "source": [
    "# Compute recency, frequency, and average purchase amount\n",
    "rfm = sqldf(\"SELECT customer_id, MIN(days_since) AS 'recency', COUNT(*) AS 'frequency', AVG(sales) AS 'amount' FROM df GROUP BY 1\")"
   ]
  },
  {
   "cell_type": "code",
   "execution_count": 25,
   "metadata": {},
   "outputs": [
    {
     "data": {
      "text/html": [
       "<div>\n",
       "<style scoped>\n",
       "    .dataframe tbody tr th:only-of-type {\n",
       "        vertical-align: middle;\n",
       "    }\n",
       "\n",
       "    .dataframe tbody tr th {\n",
       "        vertical-align: top;\n",
       "    }\n",
       "\n",
       "    .dataframe thead th {\n",
       "        text-align: right;\n",
       "    }\n",
       "</style>\n",
       "<table border=\"1\" class=\"dataframe\">\n",
       "  <thead>\n",
       "    <tr style=\"text-align: right;\">\n",
       "      <th></th>\n",
       "      <th>customer_id</th>\n",
       "      <th>recency</th>\n",
       "      <th>frequency</th>\n",
       "      <th>amount</th>\n",
       "    </tr>\n",
       "  </thead>\n",
       "  <tbody>\n",
       "    <tr>\n",
       "      <td>count</td>\n",
       "      <td>178437.000000</td>\n",
       "      <td>178437.000000</td>\n",
       "      <td>178437.000000</td>\n",
       "      <td>178437.000000</td>\n",
       "    </tr>\n",
       "    <tr>\n",
       "      <td>mean</td>\n",
       "      <td>230452.000000</td>\n",
       "      <td>165.637956</td>\n",
       "      <td>1.042104</td>\n",
       "      <td>182.687511</td>\n",
       "    </tr>\n",
       "    <tr>\n",
       "      <td>std</td>\n",
       "      <td>51510.469329</td>\n",
       "      <td>107.145857</td>\n",
       "      <td>0.211617</td>\n",
       "      <td>328.497937</td>\n",
       "    </tr>\n",
       "    <tr>\n",
       "      <td>min</td>\n",
       "      <td>141234.000000</td>\n",
       "      <td>-1.000000</td>\n",
       "      <td>1.000000</td>\n",
       "      <td>2.990000</td>\n",
       "    </tr>\n",
       "    <tr>\n",
       "      <td>25%</td>\n",
       "      <td>185843.000000</td>\n",
       "      <td>66.000000</td>\n",
       "      <td>1.000000</td>\n",
       "      <td>11.950000</td>\n",
       "    </tr>\n",
       "    <tr>\n",
       "      <td>50%</td>\n",
       "      <td>230452.000000</td>\n",
       "      <td>166.000000</td>\n",
       "      <td>1.000000</td>\n",
       "      <td>14.950000</td>\n",
       "    </tr>\n",
       "    <tr>\n",
       "      <td>75%</td>\n",
       "      <td>275061.000000</td>\n",
       "      <td>259.000000</td>\n",
       "      <td>1.000000</td>\n",
       "      <td>150.000000</td>\n",
       "    </tr>\n",
       "    <tr>\n",
       "      <td>max</td>\n",
       "      <td>319670.000000</td>\n",
       "      <td>364.000000</td>\n",
       "      <td>5.000000</td>\n",
       "      <td>3400.000000</td>\n",
       "    </tr>\n",
       "  </tbody>\n",
       "</table>\n",
       "</div>"
      ],
      "text/plain": [
       "         customer_id        recency      frequency         amount\n",
       "count  178437.000000  178437.000000  178437.000000  178437.000000\n",
       "mean   230452.000000     165.637956       1.042104     182.687511\n",
       "std     51510.469329     107.145857       0.211617     328.497937\n",
       "min    141234.000000      -1.000000       1.000000       2.990000\n",
       "25%    185843.000000      66.000000       1.000000      11.950000\n",
       "50%    230452.000000     166.000000       1.000000      14.950000\n",
       "75%    275061.000000     259.000000       1.000000     150.000000\n",
       "max    319670.000000     364.000000       5.000000    3400.000000"
      ]
     },
     "execution_count": 25,
     "metadata": {},
     "output_type": "execute_result"
    }
   ],
   "source": [
    "rfm.describe()"
   ]
  },
  {
   "cell_type": "code",
   "execution_count": 26,
   "metadata": {},
   "outputs": [
    {
     "data": {
      "text/plain": [
       "<matplotlib.axes._subplots.AxesSubplot at 0x1a1be01fd0>"
      ]
     },
     "execution_count": 26,
     "metadata": {},
     "output_type": "execute_result"
    },
    {
     "data": {
      "image/png": "[encoded data removed]",
      "text/plain": [
       "<Figure size 432x288 with 1 Axes>"
      ]
     },
     "metadata": {
      "needs_background": "light"
     },
     "output_type": "display_data"
    }
   ],
   "source": [
    "rfm.recency.hist(bins=20)\n"
   ]
  },
  {
   "cell_type": "code",
   "execution_count": 27,
   "metadata": {},
   "outputs": [
    {
     "data": {
      "text/plain": [
       "<matplotlib.axes._subplots.AxesSubplot at 0x1a1c795e90>"
      ]
     },
     "execution_count": 27,
     "metadata": {},
     "output_type": "execute_result"
    },
    {
     "data": {
      "image/png": "[encoded data removed]",
      "text/plain": [
       "<Figure size 432x288 with 1 Axes>"
      ]
     },
     "metadata": {
      "needs_background": "light"
     },
     "output_type": "display_data"
    }
   ],
   "source": [
    "rfm.frequency.hist(bins=6)\n"
   ]
  },
  {
   "cell_type": "code",
   "execution_count": 28,
   "metadata": {},
   "outputs": [
    {
     "data": {
      "text/plain": [
       "<matplotlib.axes._subplots.AxesSubplot at 0x1a1be8e3d0>"
      ]
     },
     "execution_count": 28,
     "metadata": {},
     "output_type": "execute_result"
    },
    {
     "data": {
      "image/png": "[encoded data removed]",
      "text/plain": [
       "<Figure size 432x288 with 1 Axes>"
      ]
     },
     "metadata": {
      "needs_background": "light"
     },
     "output_type": "display_data"
    }
   ],
   "source": [
    "rfm.amount.hist()\n"
   ]
  },
  {
   "cell_type": "code",
   "execution_count": 29,
   "metadata": {},
   "outputs": [],
   "source": [
    "# Copy customer data into new data frame\n",
    "new_data = rfm"
   ]
  },
  {
   "cell_type": "code",
   "execution_count": 30,
   "metadata": {},
   "outputs": [
    {
     "data": {
      "text/html": [
       "<div>\n",
       "<style scoped>\n",
       "    .dataframe tbody tr th:only-of-type {\n",
       "        vertical-align: middle;\n",
       "    }\n",
       "\n",
       "    .dataframe tbody tr th {\n",
       "        vertical-align: top;\n",
       "    }\n",
       "\n",
       "    .dataframe thead th {\n",
       "        text-align: right;\n",
       "    }\n",
       "</style>\n",
       "<table border=\"1\" class=\"dataframe\">\n",
       "  <thead>\n",
       "    <tr style=\"text-align: right;\">\n",
       "      <th></th>\n",
       "      <th>recency</th>\n",
       "      <th>frequency</th>\n",
       "      <th>amount</th>\n",
       "    </tr>\n",
       "    <tr>\n",
       "      <th>customer_id</th>\n",
       "      <th></th>\n",
       "      <th></th>\n",
       "      <th></th>\n",
       "    </tr>\n",
       "  </thead>\n",
       "  <tbody>\n",
       "    <tr>\n",
       "      <td>141234</td>\n",
       "      <td>343</td>\n",
       "      <td>1</td>\n",
       "      <td>700.00</td>\n",
       "    </tr>\n",
       "    <tr>\n",
       "      <td>141235</td>\n",
       "      <td>337</td>\n",
       "      <td>1</td>\n",
       "      <td>14.95</td>\n",
       "    </tr>\n",
       "    <tr>\n",
       "      <td>141236</td>\n",
       "      <td>348</td>\n",
       "      <td>1</td>\n",
       "      <td>23.98</td>\n",
       "    </tr>\n",
       "    <tr>\n",
       "      <td>141237</td>\n",
       "      <td>360</td>\n",
       "      <td>1</td>\n",
       "      <td>149.99</td>\n",
       "    </tr>\n",
       "    <tr>\n",
       "      <td>141238</td>\n",
       "      <td>340</td>\n",
       "      <td>1</td>\n",
       "      <td>11.99</td>\n",
       "    </tr>\n",
       "  </tbody>\n",
       "</table>\n",
       "</div>"
      ],
      "text/plain": [
       "             recency  frequency  amount\n",
       "customer_id                            \n",
       "141234           343          1  700.00\n",
       "141235           337          1   14.95\n",
       "141236           348          1   23.98\n",
       "141237           360          1  149.99\n",
       "141238           340          1   11.99"
      ]
     },
     "execution_count": 30,
     "metadata": {},
     "output_type": "execute_result"
    }
   ],
   "source": [
    "new_data.head()\n",
    "new_data = new_data.set_index(new_data.customer_id).iloc[:,1:4]\n",
    "new_data.head()"
   ]
  },
  {
   "cell_type": "code",
   "execution_count": 15,
   "metadata": {},
   "outputs": [],
   "source": [
    "# Take the log-transform of the amount, and plot\n",
    "new_data.amount = np.log(new_data.amount)"
   ]
  },
  {
   "cell_type": "code",
   "execution_count": 16,
   "metadata": {},
   "outputs": [
    {
     "data": {
      "text/plain": [
       "<matplotlib.axes._subplots.AxesSubplot at 0x1a1c2cb450>"
      ]
     },
     "execution_count": 16,
     "metadata": {},
     "output_type": "execute_result"
    },
    {
     "data": {
      "image/png": "[encoded data removed]",
      "text/plain": [
       "<Figure size 432x288 with 1 Axes>"
      ]
     },
     "metadata": {
      "needs_background": "light"
     },
     "output_type": "display_data"
    }
   ],
   "source": [
    "new_data.amount.hist(bins=7)"
   ]
  },
  {
   "cell_type": "code",
   "execution_count": 17,
   "metadata": {},
   "outputs": [
    {
     "data": {
      "text/html": [
       "<div>\n",
       "<style scoped>\n",
       "    .dataframe tbody tr th:only-of-type {\n",
       "        vertical-align: middle;\n",
       "    }\n",
       "\n",
       "    .dataframe tbody tr th {\n",
       "        vertical-align: top;\n",
       "    }\n",
       "\n",
       "    .dataframe thead th {\n",
       "        text-align: right;\n",
       "    }\n",
       "</style>\n",
       "<table border=\"1\" class=\"dataframe\">\n",
       "  <thead>\n",
       "    <tr style=\"text-align: right;\">\n",
       "      <th></th>\n",
       "      <th>recency</th>\n",
       "      <th>frequency</th>\n",
       "      <th>amount</th>\n",
       "    </tr>\n",
       "    <tr>\n",
       "      <th>customer_id</th>\n",
       "      <th></th>\n",
       "      <th></th>\n",
       "      <th></th>\n",
       "    </tr>\n",
       "  </thead>\n",
       "  <tbody>\n",
       "    <tr>\n",
       "      <td>141234</td>\n",
       "      <td>1.655337</td>\n",
       "      <td>-0.198966</td>\n",
       "      <td>1.528147</td>\n",
       "    </tr>\n",
       "    <tr>\n",
       "      <td>141235</td>\n",
       "      <td>1.599339</td>\n",
       "      <td>-0.198966</td>\n",
       "      <td>-0.536610</td>\n",
       "    </tr>\n",
       "    <tr>\n",
       "      <td>141236</td>\n",
       "      <td>1.702003</td>\n",
       "      <td>-0.198966</td>\n",
       "      <td>-0.282964</td>\n",
       "    </tr>\n",
       "    <tr>\n",
       "      <td>141237</td>\n",
       "      <td>1.814000</td>\n",
       "      <td>-0.198966</td>\n",
       "      <td>0.701190</td>\n",
       "    </tr>\n",
       "    <tr>\n",
       "      <td>141238</td>\n",
       "      <td>1.627338</td>\n",
       "      <td>-0.198966</td>\n",
       "      <td>-0.655050</td>\n",
       "    </tr>\n",
       "  </tbody>\n",
       "</table>\n",
       "</div>"
      ],
      "text/plain": [
       "              recency  frequency    amount\n",
       "customer_id                               \n",
       "141234       1.655337  -0.198966  1.528147\n",
       "141235       1.599339  -0.198966 -0.536610\n",
       "141236       1.702003  -0.198966 -0.282964\n",
       "141237       1.814000  -0.198966  0.701190\n",
       "141238       1.627338  -0.198966 -0.655050"
      ]
     },
     "execution_count": 17,
     "metadata": {},
     "output_type": "execute_result"
    }
   ],
   "source": [
    "# Standardize variables\n",
    "new_data = pd.DataFrame(scale(new_data), index=new_data.index, columns=new_data.columns)\n",
    "new_data.head()"
   ]
  },
  {
   "cell_type": "code",
   "execution_count": 18,
   "metadata": {},
   "outputs": [],
   "source": [
    "# HIERARCHICAL SEGMENTATION\n",
    "# Take a 10% sample\n",
    "customers_sample = rfm.iloc[::10, :]\n",
    "new_data_sample  = new_data.iloc[::10, :]\n",
    "\n"
   ]
  },
  {
   "cell_type": "code",
   "execution_count": 19,
   "metadata": {},
   "outputs": [],
   "source": [
    "# Perform hierarchical clustering on distance metrics\n",
    "c = linkage(new_data_sample, method='ward')"
   ]
  },
  {
   "cell_type": "code",
   "execution_count": 20,
   "metadata": {},
   "outputs": [],
   "source": [
    "# Set to 3 segments\n",
    "members = pd.DataFrame(cut_tree(c, n_clusters = 3), index=new_data_sample.index, columns=['ClusterNumber'])"
   ]
  },
  {
   "cell_type": "code",
   "execution_count": 21,
   "metadata": {},
   "outputs": [
    {
     "data": {
      "text/plain": [
       "0    7544\n",
       "1    9568\n",
       "2     732\n",
       "Name: ClusterNumber, dtype: int64"
      ]
     },
     "execution_count": 21,
     "metadata": {},
     "output_type": "execute_result"
    }
   ],
   "source": [
    "members.ClusterNumber.value_counts(sort=False)"
   ]
  },
  {
   "cell_type": "code",
   "execution_count": 22,
   "metadata": {},
   "outputs": [
    {
     "data": {
      "text/html": [
       "<div>\n",
       "<style scoped>\n",
       "    .dataframe tbody tr th:only-of-type {\n",
       "        vertical-align: middle;\n",
       "    }\n",
       "\n",
       "    .dataframe tbody tr th {\n",
       "        vertical-align: top;\n",
       "    }\n",
       "\n",
       "    .dataframe thead th {\n",
       "        text-align: right;\n",
       "    }\n",
       "</style>\n",
       "<table border=\"1\" class=\"dataframe\">\n",
       "  <thead>\n",
       "    <tr style=\"text-align: right;\">\n",
       "      <th></th>\n",
       "      <th>ClusterNumber</th>\n",
       "    </tr>\n",
       "    <tr>\n",
       "      <th>customer_id</th>\n",
       "      <th></th>\n",
       "    </tr>\n",
       "  </thead>\n",
       "  <tbody>\n",
       "    <tr>\n",
       "      <td>141234</td>\n",
       "      <td>0</td>\n",
       "    </tr>\n",
       "    <tr>\n",
       "      <td>141244</td>\n",
       "      <td>0</td>\n",
       "    </tr>\n",
       "    <tr>\n",
       "      <td>141254</td>\n",
       "      <td>1</td>\n",
       "    </tr>\n",
       "    <tr>\n",
       "      <td>141264</td>\n",
       "      <td>0</td>\n",
       "    </tr>\n",
       "    <tr>\n",
       "      <td>141274</td>\n",
       "      <td>1</td>\n",
       "    </tr>\n",
       "    <tr>\n",
       "      <td>141284</td>\n",
       "      <td>1</td>\n",
       "    </tr>\n",
       "    <tr>\n",
       "      <td>141294</td>\n",
       "      <td>0</td>\n",
       "    </tr>\n",
       "    <tr>\n",
       "      <td>141304</td>\n",
       "      <td>1</td>\n",
       "    </tr>\n",
       "    <tr>\n",
       "      <td>141314</td>\n",
       "      <td>0</td>\n",
       "    </tr>\n",
       "    <tr>\n",
       "      <td>141324</td>\n",
       "      <td>1</td>\n",
       "    </tr>\n",
       "  </tbody>\n",
       "</table>\n",
       "</div>"
      ],
      "text/plain": [
       "             ClusterNumber\n",
       "customer_id               \n",
       "141234                   0\n",
       "141244                   0\n",
       "141254                   1\n",
       "141264                   0\n",
       "141274                   1\n",
       "141284                   1\n",
       "141294                   0\n",
       "141304                   1\n",
       "141314                   0\n",
       "141324                   1"
      ]
     },
     "execution_count": 22,
     "metadata": {},
     "output_type": "execute_result"
    }
   ],
   "source": [
    "# Show 10 first customers, frequency table\n",
    "members.iloc[0:10]"
   ]
  },
  {
   "cell_type": "code",
   "execution_count": 23,
   "metadata": {},
   "outputs": [
    {
     "data": {
      "text/html": [
       "<div>\n",
       "<style scoped>\n",
       "    .dataframe tbody tr th:only-of-type {\n",
       "        vertical-align: middle;\n",
       "    }\n",
       "\n",
       "    .dataframe tbody tr th {\n",
       "        vertical-align: top;\n",
       "    }\n",
       "\n",
       "    .dataframe thead th {\n",
       "        text-align: right;\n",
       "    }\n",
       "</style>\n",
       "<table border=\"1\" class=\"dataframe\">\n",
       "  <thead>\n",
       "    <tr style=\"text-align: right;\">\n",
       "      <th></th>\n",
       "      <th>recency</th>\n",
       "      <th>frequency</th>\n",
       "      <th>amount</th>\n",
       "    </tr>\n",
       "    <tr>\n",
       "      <th>ClusterNumber</th>\n",
       "      <th></th>\n",
       "      <th></th>\n",
       "      <th></th>\n",
       "    </tr>\n",
       "  </thead>\n",
       "  <tbody>\n",
       "    <tr>\n",
       "      <td>0</td>\n",
       "      <td>164.952015</td>\n",
       "      <td>1.000000</td>\n",
       "      <td>403.484805</td>\n",
       "    </tr>\n",
       "    <tr>\n",
       "      <td>1</td>\n",
       "      <td>165.956940</td>\n",
       "      <td>1.000000</td>\n",
       "      <td>10.294980</td>\n",
       "    </tr>\n",
       "    <tr>\n",
       "      <td>2</td>\n",
       "      <td>167.763661</td>\n",
       "      <td>2.045082</td>\n",
       "      <td>258.850364</td>\n",
       "    </tr>\n",
       "  </tbody>\n",
       "</table>\n",
       "</div>"
      ],
      "text/plain": [
       "                  recency  frequency      amount\n",
       "ClusterNumber                                   \n",
       "0              164.952015   1.000000  403.484805\n",
       "1              165.956940   1.000000   10.294980\n",
       "2              167.763661   2.045082  258.850364"
      ]
     },
     "execution_count": 23,
     "metadata": {},
     "output_type": "execute_result"
    }
   ],
   "source": [
    "customers_sample_new = customers_sample.set_index(customers_sample.customer_id).iloc[:,1:4]\n",
    "\n",
    "\n",
    "customers_sample_new.groupby(members.ClusterNumber).mean()\n"
   ]
  },
  {
   "cell_type": "code",
   "execution_count": null,
   "metadata": {},
   "outputs": [],
   "source": []
  }
 ],
 "metadata": {
  "kernelspec": {
   "display_name": "Python 3",
   "language": "python",
   "name": "python3"
  },
  "language_info": {
   "codemirror_mode": {
    "name": "ipython",
    "version": 3
   },
   "file_extension": ".py",
   "mimetype": "text/x-python",
   "name": "python",
   "nbconvert_exporter": "python",
   "pygments_lexer": "ipython3",
   "version": "3.7.4"
  }
 },
 "nbformat": 4,
 "nbformat_minor": 2
}
